{
 "cells": [
  {
   "cell_type": "code",
   "execution_count": 1,
   "metadata": {
    "collapsed": false
   },
   "outputs": [],
   "source": [
    "app_dir = {\n",
    "    \"battery\":\"/home/jczeng/Dropbox/ASE'17/dataset/android/battery_doctor/all_label/\",\n",
    "    \"booking\":\"/home/jczeng/Dropbox/ASE'17/dataset/android/booking_hotel_reservations/all_label/\",\n",
    "#     \"cleanmaster\":\"/home/jczeng/Dropbox/ASE'17/dataset/android/clean_master/all_label/\",\n",
    "    \"ebay\":\"/home/jczeng/Dropbox/ASE'17/dataset/android/ebay/all_label/\",\n",
    "#     \"evernote\":\"/home/jczeng/Dropbox/ASE'17/dataset/android/evernote/all_label/\",\n",
    "    \"line\":\"/home/jczeng/Dropbox/ASE'17/dataset/android/line/all_label/\",\n",
    "    \"spotify\":\"/home/jczeng/Dropbox/ASE'17/dataset/android/spotify_music/all_label/\",\n",
    "#     \"swiftkey\":\"/home/jczeng/Dropbox/ASE'17/dataset/android/swiftkey_keyboard/all_label/\",\n",
    "    \"viber\":\"/home/jczeng/Dropbox/ASE'17/dataset/android/viber/all_label/\",\n",
    "}\n",
    "veri_file = {\n",
    "    \"cleanmaster\": \"/home/jczeng/Dropbox/ASE'17/dataset/android/clean_master/changelog_cleanmaster.txt\",\n",
    "    \"evernote\": \"/home/jczeng/Dropbox/ASE'17/dataset/android/evernote/changelog_evernote.txt\",\n",
    "    \"swiftkey\": \"/home/jczeng/Dropbox/ASE'17/dataset/android/swiftkey_keyboard/changelog_swiftkey.txt\",\n",
    "    \"battery\": \"/home/jczeng/Dropbox/ASE'17/dataset/android/battery_doctor/changelog_battery.txt\",\n",
    "    \"booking\": \"/home/jczeng/Dropbox/ASE'17/dataset/android/booking_hotel_reservations/changelog_booking.txt\",\n",
    "    \"ebay\": \"/home/jczeng/Dropbox/ASE'17/dataset/android/ebay/changelog_ebay.txt\",\n",
    "    \"line\": \"/home/jczeng/Dropbox/ASE'17/dataset/android/line/changelog_line.txt\",\n",
    "    \"viber\": \"/home/jczeng/Dropbox/ASE'17/dataset/android/viber/changelog_viber.txt\",\n",
    "    \"spotify\": \"/home/jczeng/Dropbox/ASE'17/dataset/android/spotify_music/changelog_spotify.txt\",\n",
    "}\n",
    "from os import listdir\n",
    "from os import path\n",
    "from nltk.stem.wordnet import WordNetLemmatizer\n",
    "special_words = ['prosses', 'acsess']\n",
    "skip_words = ['feed']\n",
    "\n",
    "def lemmatize(word):\n",
    "    if word in skip_words:\n",
    "        return word\n",
    "    n_word = WordNetLemmatizer().lemmatize(word, 'v')\n",
    "    if n_word not in special_words:\n",
    "        temp_token = WordNetLemmatizer().lemmatize(n_word, 'n')\n",
    "        if (n_word != temp_token and not re.search(r'ss$', n_word)):\n",
    "            n_word = temp_token\n",
    "    return n_word"
   ]
  },
  {
   "cell_type": "code",
   "execution_count": 4,
   "metadata": {
    "collapsed": false
   },
   "outputs": [],
   "source": [
    "from gensim.models import Word2Vec\n",
    "import numpy as np\n",
    "def validation(logfile, label_phrases, emerge_phrases):\n",
    "    # read changelog\n",
    "    clog = []\n",
    "    with open(logfile) as fin:\n",
    "        for line in fin.readlines():\n",
    "            line = line.strip()\n",
    "            issue_kw = map(lambda s: s.strip().split(), line.split(\",\"))\n",
    "            clog.append(issue_kw)\n",
    "    # check alignment\n",
    "    if len(clog) != len(label_phrases):\n",
    "        logging.error(\"length not corrected: %d, %d in %s\"%(len(clog), len(label_phrases), logfile))\n",
    "        exit(0)\n",
    "    # compare topic label using keyword\n",
    "    # load word2vec model\n",
    "    wv_model = Word2Vec.load(os.path.join(\"..\", \"model\", \"appreviews_word2vec.model\"))\n",
    "    label_phrase_precisions = []; label_phrase_recalls = []; label_sent_precisions = []; label_sent_recalls = []\n",
    "    em_phrase_precisions = []; em_phrase_recalls = []; em_sent_precisions = []; em_sent_recalls = []\n",
    "    # two list: [['keyword1', 'keyword2', ...], ['keyword1', 'keyword2', ...]]\n",
    "    #           [['label1', 'label2', ...], ['label1', 'label2', ...]]\n",
    "    for id, ver in enumerate(clog):\n",
    "        if ver == [[]]: # skip the empty version changelog\n",
    "            continue\n",
    "        label_phrase_match_set = set(); label_phrase_issue_match_set = set(); label_sent_match_set = set(); label_sent_issue_match_set = set()\n",
    "        em_phrase_match_set = set(); em_phrase_issue_match_set = set(); em_sent_match_set = set(); em_sent_issue_match_set = set()\n",
    "\n",
    "        # phrase\n",
    "        for issue in ver:\n",
    "            for kw in issue:\n",
    "                kw_match = False\n",
    "                for ws in label_phrases[id]:\n",
    "                    for w in ws:\n",
    "                        label_match = False\n",
    "                        for w_s in w.split(\"_\"):\n",
    "                            if sim_w(kw, w_s, wv_model) > 0.6:\n",
    "                                # hit\n",
    "                                #logging.info(\"hit: %s -> %s\"%(w, kw))\n",
    "                                label_match = True\n",
    "                                kw_match = True\n",
    "                                break\n",
    "                        if label_match: # if label match found, add label to match set\n",
    "                            label_phrase_match_set.add(w)\n",
    "                if kw_match:    # if kw match found, add issue to match set\n",
    "                    label_phrase_issue_match_set.add(\"_\".join(issue))\n",
    "\n",
    "        # check emerging issue label\n",
    "        # merge current version and next version\n",
    "        if id == 0:     # skip the first epoch\n",
    "            continue\n",
    "        if id != len(clog) - 1:\n",
    "            m_ver = ver + clog[id+1]\n",
    "        else:\n",
    "            m_ver = ver\n",
    "        for issue in m_ver:\n",
    "            for kw in issue:\n",
    "                kw_match = False\n",
    "                for tws in emerge_phrases[id-1]:\n",
    "                    for w in tws:\n",
    "                        label_match = False\n",
    "                        for w_s in w.split(\"_\"):\n",
    "                            if sim_w(kw, w_s, wv_model) > 0.6:\n",
    "                                # hit\n",
    "                                #logging.info(\"hit: %s -> %s\" % (w, kw))\n",
    "                                label_match = True\n",
    "                                kw_match = True\n",
    "                                break\n",
    "                        if label_match:\n",
    "                            em_phrase_match_set.add(\"_\".join(tws))\n",
    "                            break\n",
    "                if kw_match:\n",
    "                    em_phrase_issue_match_set.add(\"_\".join(issue))\n",
    "\n",
    "        # compute\n",
    "        label_phrase_precision = len(label_phrase_match_set) / float(len(label_phrases[id]))\n",
    "        label_phrase_recall = len(label_phrase_issue_match_set) / float(len(ver))\n",
    "        if len(emerge_phrases[id-1]) != 0:\n",
    "            em_phrase_precision = len(em_phrase_match_set) / float(len(emerge_phrases[id-1]))\n",
    "            em_phrase_precisions.append(em_phrase_precision)\n",
    "        em_phrase_recall = len(em_phrase_issue_match_set) / float(len(ver))\n",
    "\n",
    "        label_phrase_precisions.append(label_phrase_precision)\n",
    "        label_phrase_recalls.append(label_phrase_recall)\n",
    "        em_phrase_recalls.append(em_phrase_recall)\n",
    "    label_phrase_fscore = 2 * np.mean(label_phrase_recalls) * np.mean(em_phrase_precisions) / (np.mean(label_phrase_recalls) + np.mean(em_phrase_precisions))\n",
    "    label_sent_fscore = 2 * np.mean(label_sent_recalls) * np.mean(em_sent_precisions) / (np.mean(label_sent_recalls) + np.mean(em_sent_precisions))\n",
    "    print(\"Phrase label precision: %s\\trecall: %f\"%(np.mean(label_phrase_precisions), np.mean(label_phrase_recalls)))\n",
    "    print(\n",
    "        \"Emerging phrase precision: %s\\trecall: %f\" % (np.mean(em_phrase_precisions), np.mean(em_phrase_recalls)))\n",
    "    print(\"Phrase F1 score: %f\"%label_phrase_fscore)\n",
    "    with open(\"../result/ldaresult/dtm.txt\", \"a\") as fout:\n",
    "        fout.write(\"%s\\t%f\\t%f\\t%f\\n\"%(logfile, np.mean(label_phrase_recalls), np.mean(em_phrase_precisions), label_phrase_fscore))\n",
    "        \n",
    "def sim_w(w1, w2, wv_model):\n",
    "    if w1 not in wv_model or w2 not in wv_model:\n",
    "        return 0.0\n",
    "    return wv_model.similarity(w1, w2)       \n",
    "        "
   ]
  },
  {
   "cell_type": "code",
   "execution_count": 5,
   "metadata": {
    "collapsed": false
   },
   "outputs": [
    {
     "name": "stdout",
     "output_type": "stream",
     "text": [
      "processing spotify\n"
     ]
    },
    {
     "name": "stderr",
     "output_type": "stream",
     "text": [
      "/home/jczeng/anaconda2/lib/python2.7/site-packages/ipykernel/__main__.py:85: RuntimeWarning: invalid value encountered in double_scalars\n"
     ]
    },
    {
     "name": "stdout",
     "output_type": "stream",
     "text": [
      "Phrase label precision: 0.0\trecall: 0.000000\n",
      "Emerging phrase precision: 0.0\trecall: 0.000000\n",
      "Phrase F1 score: nan\n",
      "[[['chromecast_support'], [u'stop_work'], ['music_offline'], [u'suggest_song'], ['spotify_premium'], ['support_chromecast'], ['menu_button'], ['favorite_music']], [['chromecast_support'], [u'stop_work'], ['music_offline'], [u'suggest_song'], ['spotify_premium'], ['support_chromecast'], ['menu_button'], ['favorite_music']], [['chromecast_support'], [u'stop_work'], ['music_offline'], [u'suggest_song'], ['spotify_premium'], ['support_chromecast'], ['menu_button'], ['favorite_music']], [['chromecast_support'], [u'stop_work'], ['music_offline'], [u'suggest_song'], ['spotify_premium'], ['support_chromecast'], ['menu_button'], ['favorite_music']], [['chromecast_support'], [u'stop_work'], ['music_offline'], [u'suggest_song'], ['spotify_premium'], ['support_chromecast'], ['menu_button'], ['favorite_music']], [['chromecast_support'], [u'stop_work'], ['music_offline'], [u'suggest_song'], ['spotify_premium'], ['support_chromecast'], ['menu_button'], ['favorite_music']], [['chromecast_support'], [u'stop_work'], ['music_offline'], [u'suggest_song'], ['spotify_premium'], ['support_chromecast'], ['menu_button'], [u'favorite_artist']], [['chromecast_support'], [u'stop_work'], ['music_offline'], [u'suggest_song'], ['spotify_premium'], ['support_chromecast'], ['menu_button'], [u'favorite_artist']]]\n",
      "processing battery\n",
      "Phrase label precision: 0.0416666666667\trecall: 0.111111\n",
      "Emerging phrase precision: 0.0833333333333\trecall: 0.222222\n",
      "Phrase F1 score: 0.095238\n",
      "[[[u'minute_later'], ['must_download'], ['battery_saver'], ['lock_screen'], [u'battery_drain'], ['android_lollipop'], [u'minute_later'], ['full_charge']], [[u'minute_later'], ['must_download'], ['battery_saver'], ['lock_screen'], [u'battery_drain'], ['android_lollipop'], [u'minute_later'], ['full_charge']], [[u'minute_later'], ['must_download'], ['samsung_galaxy'], ['lock_screen'], [u'battery_drain'], ['android_lollipop'], [u'minute_later'], ['full_charge']], [[u'minute_later'], ['must_download'], ['samsung_galaxy'], ['lock_screen'], [u'battery_drain'], ['android_lollipop'], [u'minute_later'], ['full_charge']], [[u'minute_later'], ['must_download'], ['samsung_galaxy'], ['lock_screen'], [u'battery_drain'], ['android_lollipop'], [u'minute_later'], ['full_charge']], [[u'minute_later'], ['must_download'], ['samsung_galaxy'], ['lock_screen'], [u'battery_drain'], ['android_lollipop'], [u'minute_later'], ['full_charge']], [[u'minute_later'], ['must_download'], ['samsung_galaxy'], ['lock_screen'], [u'battery_drain'], ['android_lollipop'], [u'minute_later'], ['full_charge']]]\n",
      "processing ebay\n",
      "Phrase label precision: 0.075\trecall: 0.073810\n",
      "Emerging phrase precision: 0.125\trecall: 0.112698\n",
      "Phrase F1 score: 0.092814\n",
      "[[[u'free_ship'], ['cant_see'], ['network_connection'], [u'terrible_test'], ['web_site'], [u'connection_issue'], [u'say_session'], [u'auction_end']], [[u'free_ship'], ['cant_see'], ['network_error'], [u'terrible_test'], ['web_site'], [u'connection_issue'], [u'say_session'], [u'auction_end']], [[u'free_ship'], ['cant_see'], ['network_connection'], [u'terrible_test'], ['web_site'], [u'connection_issue'], [u'say_session'], [u'auction_end']], [[u'free_ship'], ['cant_see'], ['network_connection'], [u'terrible_test'], ['web_site'], [u'connection_issue'], [u'say_session'], [u'auction_end']], [[u'free_ship'], ['cant_see'], ['network_connection'], [u'terrible_test'], ['web_site'], [u'connection_issue'], [u'say_session'], [u'auction_end']], [[u'free_ship'], ['cant_see'], ['network_connection'], [u'terrible_test'], ['web_site'], [u'connection_issue'], [u'say_session'], [u'auction_end']], [['pay_pal'], ['cant_see'], ['network_connection'], [u'terrible_test'], ['web_site'], [u'connection_issue'], [u'say_session'], [u'auction_end']], [[u'free_ship'], ['cant_see'], ['network_error'], [u'terrible_test'], ['web_site'], [u'connection_issue'], [u'say_session'], [u'auction_end']], [[u'free_ship'], ['cant_see'], ['network_error'], [u'terrible_test'], ['web_site'], [u'connection_issue'], [u'say_session'], [u'auction_end']]]\n",
      "processing viber\n",
      "Phrase label precision: 0.15\trecall: 0.493333\n",
      "Emerging phrase precision: 0.325\trecall: 1.096667\n",
      "Phrase F1 score: 0.391853\n",
      "[[[u'free_sticker'], [u'free_call'], ['internet_connection'], ['incoming_message'], ['chat_background'], ['multi_window'], ['video_call'], ['doesnt_work']], [[u'free_sticker'], [u'free_call'], ['internet_connection'], ['incoming_message'], ['chat_background'], ['multi_window'], ['video_call'], ['doesnt_work']], [[u'free_sticker'], [u'free_call'], ['internet_connection'], ['incoming_message'], ['chat_background'], ['multi_window'], ['video_call'], [u'video_call']], [[u'free_sticker'], [u'free_call'], ['internet_connection'], ['incoming_message'], ['chat_background'], ['multi_window'], ['video_call'], [u'video_call']], [['globus_mobile'], [u'free_call'], ['internet_connection'], ['incoming_message'], ['chat_background'], ['multi_window'], ['video_call'], [u'video_call']], [['globus_mobile'], [u'free_call'], ['internet_connection'], ['incoming_message'], ['chat_background'], ['multi_window'], ['video_call'], [u'video_call']], [[u'start_earn'], [u'free_call'], ['internet_connection'], ['incoming_message'], ['chat_background'], ['android_wear'], ['video_call'], [u'video_call']], [[u'start_earn'], [u'free_call'], ['internet_connection'], ['incoming_message'], ['chat_background'], ['android_wear'], ['video_call'], [u'video_call']]]\n",
      "processing line\n",
      "Phrase label precision: 0.203125\trecall: 0.570833\n",
      "Emerging phrase precision: 0.203125\trecall: 0.620833\n",
      "Phrase F1 score: 0.299630\n",
      "[[[u'stop_work'], ['invalid_phone'], ['phone_number'], ['get_free'], ['chat_history'], ['get_rich'], ['profile_picture'], ['group_chat']], [[u'stop_work'], ['invalid_phone'], ['phone_number'], ['get_free'], ['chat_history'], ['get_rich'], ['profile_picture'], ['group_chat']], [[u'stop_work'], ['invalid_phone'], ['phone_number'], ['get_free'], ['chat_history'], ['get_rich'], ['profile_picture'], ['group_chat']], [[u'stop_work'], ['invalid_phone'], ['phone_number'], ['get_free'], ['chat_history'], ['get_rich'], ['profile_picture'], ['group_chat']], [[u'stop_work'], ['invalid_phone'], ['phone_number'], ['get_free'], ['chat_history'], ['get_rich'], ['profile_picture'], ['group_chat']], [[u'stop_work'], ['invalid_phone'], ['phone_number'], ['get_free'], ['chat_history'], ['get_rich'], ['profile_picture'], ['group_chat']], [[u'stop_work'], ['invalid_phone'], ['phone_number'], ['get_free'], ['chat_history'], ['get_rich'], ['profile_picture'], ['group_chat']], [[u'stop_work'], ['invalid_phone'], ['phone_number'], ['get_free'], ['chat_history'], ['get_rich'], ['profile_picture'], ['group_chat']], [[u'stop_work'], ['invalid_phone'], ['phone_number'], ['get_free'], ['chat_history'], ['get_rich'], ['profile_picture'], ['group_chat']], [[u'stop_work'], ['invalid_phone'], ['phone_number'], ['get_free'], ['chat_history'], ['get_rich'], ['profile_picture'], ['group_chat']], [[u'stop_work'], ['invalid_phone'], ['phone_number'], ['get_free'], ['chat_history'], ['get_rich'], ['profile_picture'], ['group_chat']]]\n",
      "processing booking\n",
      "Phrase label precision: 0.125\trecall: 0.247917\n",
      "Emerging phrase precision: 0.171875\trecall: 0.372917\n",
      "Phrase F1 score: 0.203009\n",
      "[[['credit_card'], [u'book_hotel'], ['credit_card'], [u'sort_option'], ['customer_service'], ['priceline_group'], ['travel_guide'], ['map_view']], [['credit_card'], [u'book_hotel'], ['credit_card'], [u'sort_option'], ['customer_service'], ['priceline_group'], ['travel_guide'], ['map_view']], [['credit_card'], [u'book_hotel'], ['credit_card'], [u'sort_option'], ['customer_service'], ['priceline_group'], ['travel_guide'], ['map_view']], [['credit_card'], [u'book_hotel'], ['credit_card'], [u'sort_option'], ['customer_service'], ['priceline_group'], ['travel_guide'], ['map_view']], [['credit_card'], [u'book_hotel'], ['credit_card'], [u'sort_option'], ['customer_service'], ['priceline_group'], ['travel_guide'], ['map_view']], [['credit_card'], [u'book_hotel'], ['credit_card'], [u'sort_option'], ['customer_service'], ['priceline_group'], ['travel_guide'], ['map_view']], [['credit_card'], [u'book_hotel'], ['credit_card'], [u'sort_option'], ['customer_service'], ['priceline_group'], ['travel_guide'], ['map_view']], [['credit_card'], [u'book_hotel'], ['credit_card'], [u'sort_option'], ['customer_service'], ['priceline_group'], ['travel_guide'], ['map_view']], [['credit_card'], [u'book_hotel'], ['credit_card'], [u'sort_option'], ['customer_service'], ['priceline_group'], ['travel_guide'], ['map_view']], [['credit_card'], [u'book_hotel'], ['credit_card'], [u'sort_option'], ['customer_service'], ['priceline_group'], ['travel_guide'], ['map_view']], [['credit_card'], [u'book_hotel'], ['credit_card'], [u'sort_option'], ['customer_service'], ['priceline_group'], ['travel_guide'], ['map_view']], [['credit_card'], [u'book_hotel'], ['credit_card'], [u'sort_option'], ['customer_service'], ['priceline_group'], ['travel_guide'], ['map_view']], [['credit_card'], [u'book_hotel'], ['credit_card'], [u'sort_option'], ['customer_service'], ['priceline_group'], ['travel_guide'], ['map_view']], [['credit_card'], [u'book_hotel'], ['credit_card'], [u'sort_option'], ['customer_service'], ['priceline_group'], ['travel_guide'], ['map_view']], [['credit_card'], [u'book_hotel'], ['credit_card'], [u'sort_option'], ['customer_service'], ['priceline_group'], ['travel_guide'], ['map_view']], [['credit_card'], [u'book_hotel'], ['credit_card'], [u'sort_option'], ['customer_service'], ['priceline_group'], ['travel_guide'], ['map_view']], [['credit_card'], [u'book_hotel'], ['credit_card'], [u'sort_option'], ['customer_service'], ['priceline_group'], ['travel_guide'], ['map_view']], [['credit_card'], [u'book_hotel'], ['credit_card'], [u'sort_option'], ['customer_service'], ['priceline_group'], ['travel_guide'], ['map_view']], [['credit_card'], [u'book_hotel'], ['credit_card'], [u'sort_option'], ['customer_service'], ['priceline_group'], ['travel_guide'], ['map_view']], [['credit_card'], [u'book_hotel'], ['credit_card'], [u'sort_option'], ['customer_service'], ['priceline_group'], ['travel_guide'], ['map_view']], [['credit_card'], [u'book_hotel'], ['credit_card'], [u'sort_option'], ['customer_service'], ['priceline_group'], ['travel_guide'], ['map_view']], [['credit_card'], [u'book_hotel'], ['credit_card'], [u'sort_option'], ['customer_service'], ['priceline_group'], ['travel_guide'], ['map_view']], [['credit_card'], [u'book_hotel'], ['credit_card'], [u'sort_option'], ['customer_service'], ['priceline_group'], ['travel_guide'], ['map_view']], [['credit_card'], [u'book_hotel'], ['credit_card'], [u'sort_option'], ['customer_service'], ['priceline_group'], ['travel_guide'], ['map_view']]]\n"
     ]
    }
   ],
   "source": [
    "import re\n",
    "import logging\n",
    "import os\n",
    "for apk, filepath in app_dir.items():\n",
    "    label_files = listdir(filepath)\n",
    "    label_phrases = []\n",
    "    print(\"processing %s\"%(apk))\n",
    "    for ver_file in sorted(label_files, key=lambda s: map(int, s.split('.'))):\n",
    "        with open(os.path.join(filepath, ver_file)) as fin:\n",
    "            lines = fin.readlines()\n",
    "        label_phrase = []\n",
    "        \n",
    "        for line in lines:\n",
    "            line = line.strip()\n",
    "            line = line.split()\n",
    "            line = map(lemmatize, line)\n",
    "            tp_issue = []\n",
    "            if re.search(r'^[-+]?[0-9]*\\.?[0-9]+$', line[-1]):\n",
    "                phrase = \"_\".join(line[0:-1])\n",
    "            else:\n",
    "                phrase = \"_\".join(line)\n",
    "            tp_issue.append(phrase)\n",
    "            label_phrase.append(tp_issue)\n",
    "        label_phrases.append(label_phrase)\n",
    "    # validate\n",
    "    validation(veri_file[apk], label_phrases, label_phrases)\n",
    "    print(label_phrases)"
   ]
  },
  {
   "cell_type": "code",
   "execution_count": 8,
   "metadata": {
    "collapsed": false
   },
   "outputs": [
    {
     "name": "stdout",
     "output_type": "stream",
     "text": [
      "yes\n"
     ]
    }
   ],
   "source": [
    "import re\n",
    "if re.search(r'^[-+]?[0-9]*\\.?[0-9]+$', '1.44402872553'):\n",
    "    print \"yes\""
   ]
  },
  {
   "cell_type": "code",
   "execution_count": 10,
   "metadata": {
    "collapsed": false
   },
   "outputs": [
    {
     "data": {
      "text/plain": [
       "['2', '1']"
      ]
     },
     "execution_count": 10,
     "metadata": {},
     "output_type": "execute_result"
    }
   ],
   "source": [
    "map(lemmatize, [\"2\",'1'])"
   ]
  },
  {
   "cell_type": "code",
   "execution_count": null,
   "metadata": {
    "collapsed": true
   },
   "outputs": [],
   "source": []
  }
 ],
 "metadata": {
  "kernelspec": {
   "display_name": "Python [default]",
   "language": "python",
   "name": "python2"
  },
  "language_info": {
   "codemirror_mode": {
    "name": "ipython",
    "version": 2
   },
   "file_extension": ".py",
   "mimetype": "text/x-python",
   "name": "python",
   "nbconvert_exporter": "python",
   "pygments_lexer": "ipython2",
   "version": "2.7.12"
  }
 },
 "nbformat": 4,
 "nbformat_minor": 1
}
